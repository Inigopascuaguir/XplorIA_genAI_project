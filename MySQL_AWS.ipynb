{
 "cells": [
  {
   "attachments": {},
   "cell_type": "markdown",
   "metadata": {},
   "source": [
    "# AWS - RDS MySQL\n",
    "### Paquetes requeridos\n",
    "Librería de Python necesaria para establecer conexión a una base de datos MySQL"
   ]
  },
  {
   "cell_type": "code",
   "execution_count": 68,
   "metadata": {},
   "outputs": [],
   "source": [
    "from dotenv import load_dotenv\n",
    "import os\n",
    "import pandas as pd\n"
   ]
  },
  {
   "attachments": {},
   "cell_type": "markdown",
   "metadata": {},
   "source": [
    "### Credenciales"
   ]
  },
  {
   "cell_type": "code",
   "execution_count": 69,
   "metadata": {},
   "outputs": [
    {
     "data": {
      "text/plain": [
       "True"
      ]
     },
     "execution_count": 69,
     "metadata": {},
     "output_type": "execute_result"
    }
   ],
   "source": [
    "load_dotenv()"
   ]
  },
  {
   "cell_type": "code",
   "execution_count": 70,
   "metadata": {},
   "outputs": [],
   "source": [
    "username = os.getenv(\"USERNAME_bd\")\n",
    "password = os.getenv(\"PASSWORD\")\n",
    "host = os.getenv(\"HOST\")"
   ]
  },
  {
   "attachments": {},
   "cell_type": "markdown",
   "metadata": {},
   "source": [
    "### Conexion BD"
   ]
  },
  {
   "cell_type": "code",
   "execution_count": 71,
   "metadata": {},
   "outputs": [],
   "source": [
    "import pymysql"
   ]
  },
  {
   "cell_type": "code",
   "execution_count": 72,
   "metadata": {},
   "outputs": [],
   "source": [
    "'''\n",
    "pymysql.cursors.DictCursor para que los resultados que devuelva sean diccionarios,\n",
    "por defecto devuelve tuplas. Asi podemos acceder por clave a las columnas.\n",
    "'''\n",
    "\n",
    "db = pymysql.connect(host = host,\n",
    "                     user = username,\n",
    "                     password = password,\n",
    "                     port = 3306,\n",
    "                     cursorclass = pymysql.cursors.DictCursor\n",
    ")\n",
    "\n",
    "# El objeto cursor es el que ejecutará las queries y devolverá los resultados\n",
    "\n",
    "cursor = db.cursor()"
   ]
  },
  {
   "attachments": {},
   "cell_type": "markdown",
   "metadata": {},
   "source": [
    "### Version DB"
   ]
  },
  {
   "cell_type": "code",
   "execution_count": 73,
   "metadata": {},
   "outputs": [
    {
     "name": "stdout",
     "output_type": "stream",
     "text": [
      "MySQL version: {'VERSION()': '8.0.40'}\n"
     ]
    }
   ],
   "source": [
    "'''\n",
    "Este es el engine version de la BD de AWS\n",
    "fechtone trae la primera linea de la consulta\n",
    "El execute() devuelve el numero de filas a las que ha afectado la query,\n",
    "en este caso, devuelve una unica fila.\n",
    "\n",
    "Execute se guarda en la conexion pero hasta que no hacemos commit\n",
    "no se ejecutan las queries\n",
    "de insert de datos y esas cosas...\n",
    "'''\n",
    "\n",
    "cursor.execute('SELECT VERSION()')\n",
    "version = cursor.fetchone()\n",
    "print(f'MySQL version: {version}')"
   ]
  },
  {
   "attachments": {},
   "cell_type": "markdown",
   "metadata": {},
   "source": [
    "### Creación de DB"
   ]
  },
  {
   "cell_type": "code",
   "execution_count": null,
   "metadata": {},
   "outputs": [],
   "source": [
    "# Creamos una BD. Tenemos una instancia de MySQL, pero no una BD\n",
    "# Los comandos de SQL  se suelen poner en mayuscula\n",
    "create_db = '''CREATE DATABASE elplan_database'''\n",
    "cursor.execute(create_db)\n",
    "\n",
    "# Podemos eliminar la BD\n",
    "# drop_db = '''DROP DATABASE country_database'''\n",
    "# cursor.execute(drop_db)\n",
    "\n",
    "# La volvemos a crear\n",
    "# cursor.execute(create_db)\n",
    "# el output es el numero de filas afectadas"
   ]
  },
  {
   "cell_type": "code",
   "execution_count": 74,
   "metadata": {},
   "outputs": [
    {
     "data": {
      "text/plain": [
       "[{'Database': 'elplan_database'},\n",
       " {'Database': 'information_schema'},\n",
       " {'Database': 'mysql'},\n",
       " {'Database': 'performance_schema'},\n",
       " {'Database': 'sys'}]"
      ]
     },
     "execution_count": 74,
     "metadata": {},
     "output_type": "execute_result"
    }
   ],
   "source": [
    "cursor.execute('SHOW DATABASES')\n",
    "cursor.fetchall()"
   ]
  },
  {
   "cell_type": "markdown",
   "metadata": {},
   "source": [
    "### Seleccionar la BD"
   ]
  },
  {
   "cell_type": "code",
   "execution_count": 75,
   "metadata": {},
   "outputs": [
    {
     "data": {
      "text/plain": [
       "0"
      ]
     },
     "execution_count": 75,
     "metadata": {},
     "output_type": "execute_result"
    }
   ],
   "source": [
    "# Para usar la BD  recien creada\n",
    "\n",
    "cursor.connection.commit()\n",
    "use_db = '''USE elplan_database'''\n",
    "cursor.execute(use_db)"
   ]
  },
  {
   "attachments": {},
   "cell_type": "markdown",
   "metadata": {},
   "source": [
    "### Creación de tablas"
   ]
  },
  {
   "cell_type": "code",
   "execution_count": null,
   "metadata": {},
   "outputs": [],
   "source": [
    "# crear una tabla que se llame consultas\n",
    "\n",
    "create_table = '''\n",
    "CREATE TABLE consultas (\n",
    "    id INT NOT NULL AUTO_INCREMENT,\n",
    "    consulta TEXT,\n",
    "    respuesta TEXT,\n",
    "    PRIMARY KEY (id)\n",
    ")\n",
    "'''\n",
    "cursor.execute(create_table)"
   ]
  },
  {
   "cell_type": "code",
   "execution_count": 65,
   "metadata": {},
   "outputs": [
    {
     "data": {
      "text/plain": [
       "[{'Tables_in_elplan_database': 'consultas'}]"
      ]
     },
     "execution_count": 65,
     "metadata": {},
     "output_type": "execute_result"
    }
   ],
   "source": [
    "# checkear todas las tablas que tiene mi db\n",
    "cursor.execute('SHOW TABLES')\n",
    "cursor.fetchall()"
   ]
  },
  {
   "attachments": {},
   "cell_type": "markdown",
   "metadata": {},
   "source": [
    "### Insertar datos"
   ]
  },
  {
   "cell_type": "code",
   "execution_count": null,
   "metadata": {},
   "outputs": [],
   "source": [
    "consulta = 'eventos en Valladolid en Junio'\n",
    "respuesta = 'teatro de arte callejero en la calle, premier padel y conexion valladolid'"
   ]
  },
  {
   "cell_type": "code",
   "execution_count": null,
   "metadata": {},
   "outputs": [],
   "source": [
    "insert_data = '''\n",
    "INSERT INTO consultas (consulta, respuesta)\n",
    "VALUES ('%s', '%s')\n",
    "''' % (consulta,respuesta)\n",
    "\n",
    "cursor.execute(insert_data)"
   ]
  },
  {
   "attachments": {},
   "cell_type": "markdown",
   "metadata": {},
   "source": [
    "### Leer datos"
   ]
  },
  {
   "cell_type": "code",
   "execution_count": 76,
   "metadata": {},
   "outputs": [
    {
     "data": {
      "text/plain": [
       "20"
      ]
     },
     "execution_count": 76,
     "metadata": {},
     "output_type": "execute_result"
    }
   ],
   "source": [
    "sql = '''SELECT * FROM consultas'''\n",
    "cursor.execute(sql)"
   ]
  },
  {
   "cell_type": "code",
   "execution_count": 77,
   "metadata": {},
   "outputs": [
    {
     "data": {
      "text/plain": [
       "20"
      ]
     },
     "execution_count": 77,
     "metadata": {},
     "output_type": "execute_result"
    }
   ],
   "source": [
    "mi_lista = cursor.fetchall()\n",
    "len(mi_lista)"
   ]
  },
  {
   "cell_type": "code",
   "execution_count": 78,
   "metadata": {},
   "outputs": [
    {
     "data": {
      "text/plain": [
       "[{'id': 2,\n",
       "  'consulta': 'dime planes en Madrid este finde de carnaval',\n",
       "  'respuesta': '¡Claro! Aquí te dejo algunas ideas para disfrutar del carnaval en Madrid este fin de semana:\\n\\n- Desfile de Carnaval: El domingo 19 de febrero a partir de las 12:00 horas, no te pierdas el tradicional desfile de carnaval en el centro de Madrid. Disfruta de la creatividad, la música y la diversión mientras los participantes muestran sus coloridos disfraces y carrozas.\\n\\n- Fiestas en los barrios: Madrid se llena de vida durante el carnaval, con fiestas y actividades en diferentes barrios. Visita lugares como La Latina, Malasaña, Chueca o Lavapiés para disfrutar de conciertos, espectáculos de calle, concursos de disfraces y mucho más.\\n\\n- Baile de máscaras: Asiste a un elegante baile de máscaras en lugares como el Círculo de Bellas Artes o el Teatro Real. Viste tu mejor disfraz y disfruta de una noche mágica llena de música, baile y misterio.\\n\\n- Actividades para niños: Hay muchas actividades familiares durante el carnaval en Madrid. Busca talleres de máscaras, desfiles infantiles, cuentacuentos y juegos en bibliotecas, centros culturales y parques de la ciudad.\\n\\n- Gastronomía: Prueba las delicias gastronómicas típicas del carnaval madrileño, como las rosquillas tontas y listas, los buñuelos de viento o las torrijas. Disfruta de la variedad de sabores mientras te sumerges en el ambiente festivo.\\n\\nRecuerda consultar la programación oficial y las normas de seguridad vigentes para garantizar una experiencia divertida y segura durante el carnaval en Madrid. ¡Disfruta de la fiesta!'},\n",
       " {'id': 3,\n",
       "  'consulta': 'dime planes en Madrid este finde de carnaval',\n",
       "  'respuesta': '¡Claro! Aquí hay algunos planes para disfrutar de Carnaval en Madrid este fin de semana:\\n\\n- Desfile de Carnaval: El domingo 19 de febrero a partir de las 12:00 horas, no te pierdas el tradicional desfile de Carnaval en el centro de Madrid, con disfraces, música y mucha diversión.\\n\\n- Fiestas en los barrios: Muchos barrios de Madrid organizan sus propias fiestas de Carnaval con actividades para todas las edades, como concursos de disfraces, talleres, espectáculos y más. Algunos de los más populares son el Carnaval de Chamartín, el de Lavapiés y el de Tetuán.\\n\\n- Bailes de máscaras: Disfruta de la magia de los bailes de máscaras en lugares como el Teatro Real, el Círculo de Bellas Artes o el Hotel Ritz.\\n\\n- Espectáculos y teatro: Disfruta de espectáculos especiales de Carnaval en teatros y salas de toda la ciudad, como el Teatro de la Luz Philips Gran Vía o el Teatro Calderón.\\n\\n- Comida y bebida: Prueba las delicias gastronómicas de Carnaval, como los típicos buñuelos y las rosquillas.\\n\\nNo olvides consultar la programación oficial de Carnaval en la web del Ayuntamiento de Madrid para obtener más detalles y horarios. ¡Disfruta de la fiesta!'},\n",
       " {'id': 4,\n",
       "  'consulta': 'dime planes en Madrid este finde de carnaval',\n",
       "  'respuesta': '¡Claro! Aquí te dejo algunas opciones para disfrutar del carnaval en Madrid este fin de semana:\\n\\n- Desfile de Carnaval: El domingo 19 de febrero a partir de las 12:00 horas, se celebrará el tradicional desfile de carnaval en el centro de Madrid, desde la Plaza de San Juan de la Cruz hasta la Plaza de Colón. Podrás disfrutar de carrozas, música y mucha diversión.\\n\\n- Fiestas en los barrios: Muchos barrios de Madrid organizan sus propias fiestas de carnaval con actividades para todas las edades, como concursos de disfraces, pasacalles y talleres. Algunos de los más populares son el Carnaval de Chamartín, el Carnaval de Tetuán y el Carnaval de Vallecas.\\n\\n- Fiestas en salas y discotecas: Si te gusta la fiesta nocturna, muchas salas y discotecas de Madrid organizan eventos especiales de carnaval con música en vivo, DJs y concursos de disfraces.\\n\\n- Actividades culturales: También hay opciones culturales, como exposiciones, obras de teatro y proyecciones de cine relacionadas con el carnaval.\\n\\nNo olvides consultar la programación oficial de carnaval en la web del Ayuntamiento de Madrid para obtener información detallada sobre horarios y ubicaciones. ¡Disfruta del carnaval!'},\n",
       " {'id': 5,\n",
       "  'consulta': 'en que isla se celebra la full moon party en Tailandia',\n",
       "  'respuesta': 'La Full Moon Party se celebra en la isla de Ko Pha-ngan, en Tailandia.'},\n",
       " {'id': 6,\n",
       "  'consulta': 'donde se celebran los san fermines',\n",
       "  'respuesta': 'Los Sanfermines se celebran en Pamplona, España, cada año del 6 al 14 de julio.'},\n",
       " {'id': 7,\n",
       "  'consulta': 'cuando se celebra el premier padel de Valladolid',\n",
       "  'respuesta': 'El Premier Padel de Valladolid se celebra del 13 al 19 de marzo de 2024.'},\n",
       " {'id': 8,\n",
       "  'consulta': 'recomiendame sitios de tapas en Valladolid',\n",
       "  'respuesta': '¡Por supuesto! Aquí te dejo algunas recomendaciones de sitios de tapas en Valladolid:\\n\\n- La Tasquita: conocido por sus deliciosas croquetas y sus generosas raciones.\\n- El Corcho: ofrece una amplia variedad de vinos y tapas tradicionales, como la morcilla de Valladolid.\\n- Bar La Viña: famoso por sus pinchos de tortilla y sus patatas bravas.\\n- La Chula de Zorrilla: conocido por sus creativas tapas y su ambiente moderno y acogedor.\\n- El Gato Negro: ofrece una amplia variedad de vinos y tapas de alta calidad, incluyendo opciones vegetarianas y veganas.'},\n",
       " {'id': 9,\n",
       "  'consulta': 'que musicales hay ahora mismo en Madrid',\n",
       "  'respuesta': 'Hay varios musicales en cartelera en Madrid:\\n\\n- El Rey León: un musical basado en la popular película de Disney, con música de Elton John y letras de Tim Rice.\\n- Les Misérables: un clásico del teatro musical basado en la novela de Victor Hugo, con música de Claude-Michel Schönberg y letras de Alain Boublil y Jean-Marc Natel.\\n- La Llamada: un musical español con música original de Javier Calvo y Javier Ambrossi.\\n- Ghost: el musical basado en la popular película de 1990, con música y letras de Dave Stewart y Glen Ballard.\\n- El Guardaespaldas: inspirado en la película homónima de 1992, con canciones de Whitney Houston.\\n\\nEstos son solo algunos de los musicales que se pueden disfrutar actualmente en Madrid.'},\n",
       " {'id': 10,\n",
       "  'consulta': '¿que fiestas o eventos hay este mes en Valencia?',\n",
       "  'respuesta': 'Este mes de septiembre en Valencia destacan las siguientes fiestas y eventos:\\n\\n- **Feria de Julio**: Es una feria tradicional que se celebra durante todo el mes de julio, pero que se extiende hasta los primeros días de septiembre. Incluye diversas actividades como conciertos, espectáculos pirotécnicos, torneos deportivos y atracciones feriales.\\n\\n- **La Tomatina**: Se celebra el último miércoles de agosto en la localidad de Buñol, cerca de Valencia. Es una famosa batalla de tomates que atrae a participantes de todo el mundo.\\n\\n- **Fiestas de la Virgen de los Desamparados**: Se celebran del 5 al 8 de septiembre en honor a la patrona de Valencia. Incluyen procesiones, ofrendas florales, espectáculos pirotécnicos y actividades culturales.\\n\\n- **Festival de les Arts**: Es un festival de música y arte que se celebra en la Ciudad de las Artes y las Ciencias de Valencia. Ofrece una combinación de conciertos, exposiciones de arte y actividades culturales.\\n\\n- **Fiesta de la Vendimia**: Se celebra en septiembre en varias localidades de la provincia de Valencia, como Requena y Utiel. Incluye actividades relacionadas con la vendimia, como pisado de uvas, degustaciones de vino y actuaciones musicales.\\n\\nEsos son algunos de los eventos más destacados que tienen lugar en Valencia durante el mes de septiembre.'},\n",
       " {'id': 11,\n",
       "  'consulta': '¿que fiestas o eventos hay este mes de Marzo en Valencia?',\n",
       "  'respuesta': 'Las Fallas, del 15 al 19 de marzo. Es la fiesta más importante de la ciudad, declarada Patrimonio de la Humanidad por la UNESCO. Durante estos días, se plantan y queman monumentales esculturas de cartón y madera, hay desfiles, música y fuegos artificiales.'},\n",
       " {'id': 12,\n",
       "  'consulta': 'que museos me recomiendas visitar en Madrid',\n",
       "  'respuesta': 'Hay muchos museos excelentes en Madrid. Aquí hay algunos que no te puedes perder:\\n\\n1. Museo del Prado: Es uno de los museos de arte más importantes del mundo, con una extensa colección de obras maestras de artistas como Velázquez, Goya y Rubens.\\n\\n2. Museo Reina Sofía: Este museo se enfoca en arte moderno y contemporáneo, y alberga obras de Picasso, Dalí y Miró, incluyendo el famoso \"Guernica\" de Picasso.\\n\\n3. Museo Thyssen-Bornemisza: Ofrece una amplia colección de arte europeo desde el Renacimiento hasta el siglo XX, con obras de artistas como Caravaggio, Van Gogh y Monet.\\n\\n4. Museo Nacional de Antropología: Aquí podrás explorar la cultura y la historia de la humanidad, con exhibiciones sobre la evolución humana, culturas antiguas y etnografía.\\n\\n5. Museo Sorolla: Dedicado al pintor español Joaquín Sorolla, este museo exhibe sus obras impresionistas y su hermosa casa-estudio.\\n\\n6. Real Academia de Bellas Artes de San Fernando: Este museo a menudo pasado por alto, alberga una impresionante colección de arte español y europeo, incluyendo obras de Velázquez y Murillo.\\n\\n7. CaixaForum Madrid: Este centro cultural moderno alberga exhibiciones de arte contemporáneo y ofrece una variedad de programas culturales y educativos.\\n\\n8. Museo Lázaro Galdiano: Aquí podrás encontrar una colección ecléctica de arte y artefactos, incluyendo pinturas de viejos maestros, esculturas y una impresionante colección de joyas.'},\n",
       " {'id': 13,\n",
       "  'consulta': 'que museos recomiendas visitar en Madrid',\n",
       "  'respuesta': 'Hay muchos museos excelentes en Madrid. Aquí hay algunos de los más recomendados:\\n\\n1. Museo del Prado: Es uno de los museos de arte más importantes del mundo, con una extensa colección de arte europeo desde el siglo XII hasta principios del siglo XX.\\n\\n2. Museo Reina Sofía: Se especializa en arte contemporáneo y moderno, y alberga obras de artistas famosos como Picasso, Dalí y Miró.\\n\\n3. Museo Thyssen-Bornemisza: Contiene una colección impresionante de arte europeo desde el Renacimiento hasta el siglo XX, con obras de maestros como Caravaggio, Van Gogh y Monet.\\n\\n4. Museo Nacional de Antropología: Este museo ofrece un viaje a través de la historia y la cultura de la humanidad, con exhibiciones sobre antropología, arqueología y etnografía de todo el mundo.\\n\\n5. Museo Sorolla: Dedicado al artista español Joaquín Sorolla, este museo exhibe su trabajo y proporciona una visión fascinante de su vida y su proceso creativo.\\n\\n6. Real Academia de Bellas Artes de San Fernando: Fundada en el siglo XVIII, esta academia y museo exhibe una colección de arte clásico y contemporáneo, incluyendo obras de Velázquez y Goya.\\n\\nEstos museos ofrecen una gran variedad de experiencias culturales y artísticas, y son una parada obligada para cualquier amante del arte y la cultura que visite Madrid.'},\n",
       " {'id': 14,\n",
       "  'consulta': 'que museos recomiendas visitar en Madrid',\n",
       "  'respuesta': \"type='text' text='Hay muchos museos excelentes en Madrid. Aquí hay algunos que recomiendo:\\\\n\\\\n1. Museo del Prado: Arte europeo desde el siglo XII hasta principios del siglo XX.\\\\n\\\\n2. Museo Reina Sofía: Arte contemporáneo y moderno, con obras de Picasso, Miró y Dalí.\\\\n\\\\n3. Museo Thyssen-Bornemisza: Una amplia colección de arte europeo desde el Renacimiento hasta el Pop Art.\\\\n\\\\n4. Museo Nacional de Antropología: Explora la cultura y la historia de la humanidad.\\\\n\\\\n5. Museo Sorolla: Dedicado al artista español Joaquín Sorolla, con su casa y jardín.\\\\n\\\\n6. Museo Lázaro Galdiano: Una colección privada de arte, con obras de Bosch y El Greco.\\\\n\\\\n7. CaixaForum Madrid: Un centro cultural con exposiciones de arte moderno y contemporáneo.\\\\n\\\\n8. Real Academia de Bellas Artes de San Fernando: Una de las academias de arte más antiguas de Europa, con una gran colección de arte español.'\"},\n",
       " {'id': 15,\n",
       "  'consulta': 'que museos recomiendas visitar en Madrid',\n",
       "  'respuesta': 'Hay muchos museos excelentes en Madrid. Aquí te dejo algunos de los más populares:\\n\\n1. Museo del Prado: Arte europeo desde el siglo XII hasta principios del siglo XX.\\n\\n2. Museo Reina Sofía: Arte contemporáneo y moderno, con obras de Picasso, Dalí y Miró.\\n\\n3. Museo Thyssen-Bornemisza: Una amplia colección de arte europeo desde el Renacimiento hasta el Pop Art.\\n\\n4. Museo Nacional de Antropología: Explora la cultura y la historia de la humanidad.\\n\\n5. Museo Nacional de Ciencias Naturales: Ideal para los amantes de la naturaleza y la ciencia.\\n\\n6. Museo Sorolla: Dedicado al pintor español Joaquín Sorolla, con su casa y jardín.\\n\\n7. Real Academia de Bellas Artes de San Fernando: Arte español y europeo, con obras de Velázquez y Rubens.\\n\\n8. Museo Lázaro Galdiano: Una colección privada de arte, con pinturas, esculturas y objetos decorativos.\\n\\n9. CaixaForum Madrid: Un centro cultural con exposiciones de arte contemporáneo y eventos.\\n\\n10. Palacio Real de Madrid: No es exactamente un museo, pero ofrece un vistazo a la historia real española y tiene una impresionante colección de arte y antigüedades.'},\n",
       " {'id': 16,\n",
       "  'consulta': 'que festivales de música hay en galicia en el mes de Julio',\n",
       "  'respuesta': 'Aquí tienes algunos festivales de música que se celebran en Galicia durante el mes de julio:\\n\\n- Festival de la Luz (en Boimorto, del 5 al 8 de julio)\\n- Festival de Ortigueira (en Ortigueira, del 6 al 9 de julio)\\n- Revenidas (en Vilaxoán de Arousa, del 20 al 22 de julio)\\n- Resurrection Fest (en Viveiro, del 26 al 29 de julio)\\n- Atlantic Fest (en Illa de Arousa, fechas por confirmar)'},\n",
       " {'id': 17,\n",
       "  'consulta': 'recomiendame festivales en Galicia en el mes de julio',\n",
       "  'respuesta': 'Aquí hay algunos festivales populares en Galicia durante el mes de julio:\\n\\n- Festival de la Luz: Festival de música de 3 días en el hermoso escenario de la playa de Illa de Arousa, con una mezcla de artistas locales e internacionales.\\n\\n- Revenidas: Festival de música independiente en Vilaxoán, con una gran variedad de estilos, desde punk hasta hip-hop.\\n\\n- Festival de Ortigueira: Celebración de la música celta en Ortigueira, con actuaciones, talleres y actividades culturales.\\n\\n- Festival de la Ribera Sacra: Festival de música clásica en varios lugares únicos en la región de Ribeira Sacra, con vistas impresionantes.\\n\\n- Festival de la Luz de Candás: Festival de una semana en Candás con música, arte y actividades culturales, con un enfoque en la sostenibilidad y la conciencia social.'},\n",
       " {'id': 18,\n",
       "  'consulta': 'recomiendame festivales en Galicia en el mes de julio',\n",
       "  'respuesta': '¡Por supuesto! Aquí te dejo algunos festivales que se celebran en Galicia durante el mes de julio:\\n\\n1. Festival de la Luz: Festival de música indie y pop que se celebra en Boimorto, con artistas nacionales e internacionales.\\n\\n2. Revenidas: Festival de música punk y rock en Vilaxoán de Arousa, con un ambiente fiestero y familiar.\\n\\n3. Festival de Ortigueira: Celebración de música celta en Ortigueira, con conciertos, talleres y actividades culturales.\\n\\n4. Festival de la Ribeira Sacra: Festival de música clásica en varios escenarios únicos de la Ribeira Sacra.\\n\\n5. Festival de la Luz de Candás: Festival de música y arte en Candás, con conciertos, exposiciones y performances.\\n\\n6. Festival de Jazz de Vigo: Festival de jazz en Vigo, con conciertos al aire libre y en locales de la ciudad.\\n\\n7. Festival de la Sidra de Navia: Fiesta tradicional en Navia de Suarna, con degustación de sidra, música folk y actividades culturales.\\n\\nEstos son solo algunos ejemplos, pero hay muchos otros festivales y eventos que se celebran en Galicia durante el mes de julio, incluyendo fiestas gastronómicas, culturales y musicales.'},\n",
       " {'id': 19,\n",
       "  'consulta': 'lugares donde comer paella en Valencia',\n",
       "  'respuesta': 'Aquí hay algunas opciones populares para comer una deliciosa paella en Valencia:\\n\\n1. La Pepica: Este restaurante tradicional junto al mar es famoso por su paella y ha sido visitado por celebridades.\\n\\n2. Casa Roberto: Un restaurante familiar que sirve paella clásica y otras especialidades valencianas.\\n\\n3. El Rall: Un restaurante acogedor y moderno que ofrece paellas innovadoras y tradicionales.\\n\\n4. La Riua: Ubicado en el casco antiguo, este restaurante es conocido por su paella de marisco y su ambiente auténtico.\\n\\n5. Levante: Un restaurante popular entre los locales que sirve paellas generosas y deliciosas a precios razonables.\\n\\nRecuerda reservar con anticipación, especialmente durante las horas pico, ya que muchos de estos restaurantes son muy populares.'},\n",
       " {'id': 20,\n",
       "  'consulta': 'cuando se celebra el premier padel de Valladolid',\n",
       "  'respuesta': 'El Premier Padel de Valladolid se celebra del 13 al 19 de marzo de 2024.'},\n",
       " {'id': 21,\n",
       "  'consulta': 'recomiendame bares de pinchos en Bilbao',\n",
       "  'respuesta': '¡Claro! Aquí te dejo algunas recomendaciones de bares de pinchos en Bilbao:\\n\\n- Bar Gure Toki: conocido por sus pinchos de bacalao y tortilla de patatas.\\n- Bar Irrintzi: ofrece una amplia variedad de pinchos creativos y deliciosos.\\n- Bar Berton: famoso por sus pinchos de alta calidad y su ambiente acogedor.\\n- Bar Txiriboga: conocido por sus deliciosos pinchos de morcilla y otros platos tradicionales vascos.\\n- Bar El Globo: ofrece una gran variedad de pinchos innovadores y deliciosos.\\n\\nEspero que disfrutes explorando la deliciosa oferta de pinchos que ofrece Bilbao.'}]"
      ]
     },
     "execution_count": 78,
     "metadata": {},
     "output_type": "execute_result"
    }
   ],
   "source": [
    "mi_lista"
   ]
  },
  {
   "cell_type": "code",
   "execution_count": 56,
   "metadata": {},
   "outputs": [],
   "source": [
    "import pandas as pd"
   ]
  },
  {
   "cell_type": "code",
   "execution_count": 57,
   "metadata": {},
   "outputs": [
    {
     "data": {
      "text/html": [
       "<div>\n",
       "<style scoped>\n",
       "    .dataframe tbody tr th:only-of-type {\n",
       "        vertical-align: middle;\n",
       "    }\n",
       "\n",
       "    .dataframe tbody tr th {\n",
       "        vertical-align: top;\n",
       "    }\n",
       "\n",
       "    .dataframe thead th {\n",
       "        text-align: right;\n",
       "    }\n",
       "</style>\n",
       "<table border=\"1\" class=\"dataframe\">\n",
       "  <thead>\n",
       "    <tr style=\"text-align: right;\">\n",
       "      <th></th>\n",
       "      <th>id</th>\n",
       "      <th>consulta</th>\n",
       "      <th>respuesta</th>\n",
       "    </tr>\n",
       "  </thead>\n",
       "  <tbody>\n",
       "    <tr>\n",
       "      <th>0</th>\n",
       "      <td>2</td>\n",
       "      <td>dime planes en Madrid este finde de carnaval</td>\n",
       "      <td>¡Claro! Aquí te dejo algunas ideas para disfru...</td>\n",
       "    </tr>\n",
       "    <tr>\n",
       "      <th>1</th>\n",
       "      <td>3</td>\n",
       "      <td>dime planes en Madrid este finde de carnaval</td>\n",
       "      <td>¡Claro! Aquí hay algunos planes para disfrutar...</td>\n",
       "    </tr>\n",
       "    <tr>\n",
       "      <th>2</th>\n",
       "      <td>4</td>\n",
       "      <td>dime planes en Madrid este finde de carnaval</td>\n",
       "      <td>¡Claro! Aquí te dejo algunas opciones para dis...</td>\n",
       "    </tr>\n",
       "    <tr>\n",
       "      <th>3</th>\n",
       "      <td>5</td>\n",
       "      <td>en que isla se celebra la full moon party en T...</td>\n",
       "      <td>La Full Moon Party se celebra en la isla de Ko...</td>\n",
       "    </tr>\n",
       "    <tr>\n",
       "      <th>4</th>\n",
       "      <td>6</td>\n",
       "      <td>donde se celebran los san fermines</td>\n",
       "      <td>Los Sanfermines se celebran en Pamplona, Españ...</td>\n",
       "    </tr>\n",
       "    <tr>\n",
       "      <th>5</th>\n",
       "      <td>7</td>\n",
       "      <td>cuando se celebra el premier padel de Valladolid</td>\n",
       "      <td>El Premier Padel de Valladolid se celebra del ...</td>\n",
       "    </tr>\n",
       "    <tr>\n",
       "      <th>6</th>\n",
       "      <td>8</td>\n",
       "      <td>recomiendame sitios de tapas en Valladolid</td>\n",
       "      <td>¡Por supuesto! Aquí te dejo algunas recomendac...</td>\n",
       "    </tr>\n",
       "    <tr>\n",
       "      <th>7</th>\n",
       "      <td>9</td>\n",
       "      <td>que musicales hay ahora mismo en Madrid</td>\n",
       "      <td>Hay varios musicales en cartelera en Madrid:\\n...</td>\n",
       "    </tr>\n",
       "    <tr>\n",
       "      <th>8</th>\n",
       "      <td>10</td>\n",
       "      <td>¿que fiestas o eventos hay este mes en Valencia?</td>\n",
       "      <td>Este mes de septiembre en Valencia destacan la...</td>\n",
       "    </tr>\n",
       "    <tr>\n",
       "      <th>9</th>\n",
       "      <td>11</td>\n",
       "      <td>¿que fiestas o eventos hay este mes de Marzo e...</td>\n",
       "      <td>Las Fallas, del 15 al 19 de marzo. Es la fiest...</td>\n",
       "    </tr>\n",
       "    <tr>\n",
       "      <th>10</th>\n",
       "      <td>12</td>\n",
       "      <td>que museos me recomiendas visitar en Madrid</td>\n",
       "      <td>Hay muchos museos excelentes en Madrid. Aquí h...</td>\n",
       "    </tr>\n",
       "    <tr>\n",
       "      <th>11</th>\n",
       "      <td>13</td>\n",
       "      <td>que museos recomiendas visitar en Madrid</td>\n",
       "      <td>Hay muchos museos excelentes en Madrid. Aquí h...</td>\n",
       "    </tr>\n",
       "    <tr>\n",
       "      <th>12</th>\n",
       "      <td>14</td>\n",
       "      <td>que museos recomiendas visitar en Madrid</td>\n",
       "      <td>type='text' text='Hay muchos museos excelentes...</td>\n",
       "    </tr>\n",
       "    <tr>\n",
       "      <th>13</th>\n",
       "      <td>15</td>\n",
       "      <td>que museos recomiendas visitar en Madrid</td>\n",
       "      <td>Hay muchos museos excelentes en Madrid. Aquí t...</td>\n",
       "    </tr>\n",
       "    <tr>\n",
       "      <th>14</th>\n",
       "      <td>16</td>\n",
       "      <td>que festivales de música hay en galicia en el ...</td>\n",
       "      <td>Aquí tienes algunos festivales de música que s...</td>\n",
       "    </tr>\n",
       "    <tr>\n",
       "      <th>15</th>\n",
       "      <td>17</td>\n",
       "      <td>recomiendame festivales en Galicia en el mes d...</td>\n",
       "      <td>Aquí hay algunos festivales populares en Galic...</td>\n",
       "    </tr>\n",
       "    <tr>\n",
       "      <th>16</th>\n",
       "      <td>18</td>\n",
       "      <td>recomiendame festivales en Galicia en el mes d...</td>\n",
       "      <td>¡Por supuesto! Aquí te dejo algunos festivales...</td>\n",
       "    </tr>\n",
       "    <tr>\n",
       "      <th>17</th>\n",
       "      <td>19</td>\n",
       "      <td>lugares donde comer paella en Valencia</td>\n",
       "      <td>Aquí hay algunas opciones populares para comer...</td>\n",
       "    </tr>\n",
       "    <tr>\n",
       "      <th>18</th>\n",
       "      <td>20</td>\n",
       "      <td>cuando se celebra el premier padel de Valladolid</td>\n",
       "      <td>El Premier Padel de Valladolid se celebra del ...</td>\n",
       "    </tr>\n",
       "  </tbody>\n",
       "</table>\n",
       "</div>"
      ],
      "text/plain": [
       "    id                                           consulta  \\\n",
       "0    2       dime planes en Madrid este finde de carnaval   \n",
       "1    3       dime planes en Madrid este finde de carnaval   \n",
       "2    4       dime planes en Madrid este finde de carnaval   \n",
       "3    5  en que isla se celebra la full moon party en T...   \n",
       "4    6                 donde se celebran los san fermines   \n",
       "5    7   cuando se celebra el premier padel de Valladolid   \n",
       "6    8         recomiendame sitios de tapas en Valladolid   \n",
       "7    9            que musicales hay ahora mismo en Madrid   \n",
       "8   10   ¿que fiestas o eventos hay este mes en Valencia?   \n",
       "9   11  ¿que fiestas o eventos hay este mes de Marzo e...   \n",
       "10  12        que museos me recomiendas visitar en Madrid   \n",
       "11  13           que museos recomiendas visitar en Madrid   \n",
       "12  14           que museos recomiendas visitar en Madrid   \n",
       "13  15           que museos recomiendas visitar en Madrid   \n",
       "14  16  que festivales de música hay en galicia en el ...   \n",
       "15  17  recomiendame festivales en Galicia en el mes d...   \n",
       "16  18  recomiendame festivales en Galicia en el mes d...   \n",
       "17  19             lugares donde comer paella en Valencia   \n",
       "18  20   cuando se celebra el premier padel de Valladolid   \n",
       "\n",
       "                                            respuesta  \n",
       "0   ¡Claro! Aquí te dejo algunas ideas para disfru...  \n",
       "1   ¡Claro! Aquí hay algunos planes para disfrutar...  \n",
       "2   ¡Claro! Aquí te dejo algunas opciones para dis...  \n",
       "3   La Full Moon Party se celebra en la isla de Ko...  \n",
       "4   Los Sanfermines se celebran en Pamplona, Españ...  \n",
       "5   El Premier Padel de Valladolid se celebra del ...  \n",
       "6   ¡Por supuesto! Aquí te dejo algunas recomendac...  \n",
       "7   Hay varios musicales en cartelera en Madrid:\\n...  \n",
       "8   Este mes de septiembre en Valencia destacan la...  \n",
       "9   Las Fallas, del 15 al 19 de marzo. Es la fiest...  \n",
       "10  Hay muchos museos excelentes en Madrid. Aquí h...  \n",
       "11  Hay muchos museos excelentes en Madrid. Aquí h...  \n",
       "12  type='text' text='Hay muchos museos excelentes...  \n",
       "13  Hay muchos museos excelentes en Madrid. Aquí t...  \n",
       "14  Aquí tienes algunos festivales de música que s...  \n",
       "15  Aquí hay algunos festivales populares en Galic...  \n",
       "16  ¡Por supuesto! Aquí te dejo algunos festivales...  \n",
       "17  Aquí hay algunas opciones populares para comer...  \n",
       "18  El Premier Padel de Valladolid se celebra del ...  "
      ]
     },
     "execution_count": 57,
     "metadata": {},
     "output_type": "execute_result"
    }
   ],
   "source": [
    "pd.DataFrame(mi_lista)"
   ]
  },
  {
   "cell_type": "code",
   "execution_count": null,
   "metadata": {},
   "outputs": [],
   "source": []
  }
 ],
 "metadata": {
  "kernelspec": {
   "display_name": "Python 3",
   "language": "python",
   "name": "python3"
  },
  "language_info": {
   "codemirror_mode": {
    "name": "ipython",
    "version": 3
   },
   "file_extension": ".py",
   "mimetype": "text/x-python",
   "name": "python",
   "nbconvert_exporter": "python",
   "pygments_lexer": "ipython3",
   "version": "3.10.11"
  }
 },
 "nbformat": 4,
 "nbformat_minor": 4
}

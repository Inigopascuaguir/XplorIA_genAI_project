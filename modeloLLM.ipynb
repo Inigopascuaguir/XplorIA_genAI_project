{
 "cells": [
  {
   "cell_type": "code",
   "execution_count": 8,
   "metadata": {},
   "outputs": [],
   "source": [
    "from dotenv import load_dotenv\n",
    "import os\n",
    "import pandas as pd"
   ]
  },
  {
   "cell_type": "code",
   "execution_count": 7,
   "metadata": {},
   "outputs": [
    {
     "name": "stdout",
     "output_type": "stream",
     "text": [
      "En junio, Valladolid suele tener un calendario cultural muy animado. Aquí hay algunos eventos que podrían tener lugar en junio:\n",
      "\n",
      "**Fiestas de San Juan:** Del 22 al 24 de junio, la ciudad se llena de música, bailes tradicionales y actividades culturales.\n",
      "\n",
      "**Festival de Teatro y Artes de Calle:** A lo largo de todo el mes, artistas locales e internacionales presentan sus espectáculos en las calles y plazas de la ciudad.\n",
      "\n",
      "**Conciertos al aire libre:** En el mes de junio, el clima es agradable en Valladolid, por lo que a menudo hay conciertos al aire libre en parques y plazas.\n",
      "\n",
      "En cuanto a recomendaciones para comer, aquí hay algunas opciones:\n",
      "\n",
      "**El Figón de Recoletos:** Cocina tradicional castellana con un toque moderno.\n",
      "\n",
      "**La Criolla:** Especializado en carnes a la parrilla y cocina argentina.\n",
      "\n",
      "**El Caballo de Troya:** Restaurante elegante con una amplia variedad de platos de cocina mediterránea.\n",
      "\n",
      "**La Cotorra:** Bar de tapas típico español con una gran selección de vinos.\n",
      "\n",
      "**Casa Pedro:** Restaurante familiar que sirve platos tradicionales castellanos, como el lechazo asado.\n"
     ]
    }
   ],
   "source": [
    "import cohere\n",
    "\n",
    "co = cohere.ClientV2(\"lskAIU3tKU6pMemcZffRTH9nck1GOYLkzETqw5hW\")\n",
    "response = co.chat(\n",
    "    model=\"command-r-plus\", \n",
    "    messages=[{\"role\": \"system\", \"content\": \"eres un experto en el sector turístico, da respuestas resumidas con la información esencial\"},\n",
    "              {\"role\": \"user\", \"content\": \"Voy a visitar Valladolid (España) en el mes de Junio y me gustaría saber que eventos habrá ese mes y alguna recomendación de donde comer\"}\n",
    "         ]\n",
    ")\n",
    "\n",
    "print(response.message.content[0].text)\n"
   ]
  },
  {
   "cell_type": "code",
   "execution_count": null,
   "metadata": {},
   "outputs": [],
   "source": []
  }
 ],
 "metadata": {
  "kernelspec": {
   "display_name": "Python 3",
   "language": "python",
   "name": "python3"
  },
  "language_info": {
   "codemirror_mode": {
    "name": "ipython",
    "version": 3
   },
   "file_extension": ".py",
   "mimetype": "text/x-python",
   "name": "python",
   "nbconvert_exporter": "python",
   "pygments_lexer": "ipython3",
   "version": "3.10.11"
  }
 },
 "nbformat": 4,
 "nbformat_minor": 2
}
